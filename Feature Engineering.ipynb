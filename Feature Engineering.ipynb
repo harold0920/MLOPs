{
 "cells": [
  {
   "cell_type": "code",
   "execution_count": 1,
   "metadata": {},
   "outputs": [],
   "source": [
    "import pandas as pd\n",
    "import numpy as np\n",
    "import matplotlib.pyplot as plt\n",
    "import seaborn as sns"
   ]
  },
  {
   "cell_type": "code",
   "execution_count": 2,
   "metadata": {},
   "outputs": [],
   "source": [
    "# Feature Engineering\n",
    "def preprocess_features(data):\n",
    "    \"\"\"Preprocess and engineer features.\"\"\"\n",
    "    # Plot histograms for each feature\n",
    "    data.hist(bins=20, figsize=(15, 10))\n",
    "    plt.tight_layout()\n",
    "    plt.show()\n",
    "\n",
    "    # Correlation pair plot\n",
    "    sns.pairplot(data)\n",
    "    plt.show()\n",
    "\n",
    "    # Convert categorical columns to numerical\n",
    "    categorical_cols = data.select_dtypes(include=['object']).columns\n",
    "    data = pd.get_dummies(data, columns=categorical_cols, drop_first=True)\n",
    "    \n",
    "    # Split features and target\n",
    "    X = data.drop('Attrition', axis=1)\n",
    "    y = data['Attrition'].apply(lambda x: 1 if x == 'Yes' else 0)\n",
    "    return X, y"
   ]
  }
 ],
 "metadata": {
  "kernelspec": {
   "display_name": "Python 3",
   "language": "python",
   "name": "python3"
  },
  "language_info": {
   "codemirror_mode": {
    "name": "ipython",
    "version": 3
   },
   "file_extension": ".py",
   "mimetype": "text/x-python",
   "name": "python",
   "nbconvert_exporter": "python",
   "pygments_lexer": "ipython3",
   "version": "3.13.1"
  }
 },
 "nbformat": 4,
 "nbformat_minor": 2
}
